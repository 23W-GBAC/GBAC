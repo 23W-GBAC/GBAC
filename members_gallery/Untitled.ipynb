{
 "cells": [
  {
   "cell_type": "code",
   "execution_count": 18,
   "id": "dc8f93be-8102-40a8-a389-f3cce5dd171d",
   "metadata": {},
   "outputs": [
    {
     "ename": "TypeError",
     "evalue": "string indices must be integers, not 'str'",
     "output_type": "error",
     "traceback": [
      "\u001b[0;31m---------------------------------------------------------------------------\u001b[0m",
      "\u001b[0;31mTypeError\u001b[0m                                 Traceback (most recent call last)",
      "Cell \u001b[0;32mIn[18], line 8\u001b[0m\n\u001b[1;32m      6\u001b[0m names \u001b[38;5;241m=\u001b[39m []\n\u001b[1;32m      7\u001b[0m \u001b[38;5;28;01mfor\u001b[39;00m repo \u001b[38;5;129;01min\u001b[39;00m json:\n\u001b[0;32m----> 8\u001b[0m     names\u001b[38;5;241m.\u001b[39mappend(\u001b[43mrepo\u001b[49m\u001b[43m[\u001b[49m\u001b[38;5;124;43m'\u001b[39;49m\u001b[38;5;124;43mname\u001b[39;49m\u001b[38;5;124;43m'\u001b[39;49m\u001b[43m]\u001b[49m)\n\u001b[1;32m     10\u001b[0m names\n\u001b[1;32m     13\u001b[0m authors \u001b[38;5;241m=\u001b[39m []\n",
      "\u001b[0;31mTypeError\u001b[0m: string indices must be integers, not 'str'"
     ]
    }
   ],
   "source": [
    "import requests\n",
    "import dotenv\n",
    "\n",
    "\n",
    "\n",
    "headers = {\n",
    "     'Authorization': f'token {GHTOKEN}',\n",
    "     'Accept': 'application/vnd.github.v3+json'\n",
    "}\n",
    "\n",
    "response = requests.get(\"https://api.github.com/orgs/23W-GBAC/repos?per_page=100\")\n",
    "\n",
    "if response.status_code == 200:\n",
    "    json = response.json()\n",
    "    \n",
    "    names = []\n",
    "    for repo in json:\n",
    "        names.append(repo['name'])\n",
    "    else:\n",
    "        print(f\"Failed to fetch members. Status code: {response.status_code}\")\n",
    "\n",
    "authors = []\n",
    "for name in names:\n",
    "    # https://api.github.com/repos/23W-GBAC/SenaDok/commits\n",
    "    url = f\"https://api.github.com/repos/23W-GBAC/{name}/commits\"\n",
    "    # get author of last commit\n",
    "    response = requests.get(url)\n",
    "    if response.status_code == 200:\n",
    "        author = response.json()[0]['author']\n",
    "        authors.append(author)\n",
    "    else:\n",
    "        print(f\"Failed to fetch members. Status code: {response.status_code}\")\n",
    "    \n",
    "\n",
    "authors"
   ]
  },
  {
   "cell_type": "code",
   "execution_count": null,
   "id": "9a0c4c2e-1292-41c1-a8fa-12eed5a885d0",
   "metadata": {},
   "outputs": [],
   "source": []
  }
 ],
 "metadata": {
  "kernelspec": {
   "display_name": "Python 3 (ipykernel)",
   "language": "python",
   "name": "python3"
  },
  "language_info": {
   "codemirror_mode": {
    "name": "ipython",
    "version": 3
   },
   "file_extension": ".py",
   "mimetype": "text/x-python",
   "name": "python",
   "nbconvert_exporter": "python",
   "pygments_lexer": "ipython3",
   "version": "3.11.6"
  }
 },
 "nbformat": 4,
 "nbformat_minor": 5
}
