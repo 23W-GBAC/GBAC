{
 "cells": [
  {
   "cell_type": "code",
   "execution_count": null,
   "id": "dc8f93be-8102-40a8-a389-f3cce5dd171d",
   "metadata": {},
   "outputs": [],
   "source": [
    "import requests\n",
    "from dotenv import dotenv_values\n",
    "import pandas as pd\n",
    "from IPython.display import display, Markdown\n",
    "\n",
    "config = dotenv_values(\"../.env\")\n",
    "config"
   ]
  },
  {
   "cell_type": "code",
   "execution_count": null,
   "id": "9a0c4c2e-1292-41c1-a8fa-12eed5a885d0",
   "metadata": {},
   "outputs": [],
   "source": [
    "headers = {\n",
    "     'Authorization': f\"token {config['GHTOKEN']}\",\n",
    "     #'Accept': 'application/vnd.github.v3+json'\n",
    "}\n",
    "\n",
    "url = f\"https://api.github.com/orgs/{config['GHORG']}/repos?per_page=100\"\n",
    "response = requests.get(url, headers=headers)\n",
    "if response.status_code == 200:\n",
    "    json = response.json()\n",
    "    names = []\n",
    "    for repo in json:\n",
    "        names.append(repo['name'])\n",
    "    else:\n",
    "        print(f\"Failed to fetch repos. Status code: {response.status_code}\")\n",
    "\n",
    "authors = {}\n",
    "for name in names:\n",
    "    # https://api.github.com/repos/23W-GBAC/SenaDok/commits\n",
    "    print(url)\n",
    "    url = f\"https://api.github.com/repos/23W-GBAC/{name}/commits\"\n",
    "    # get author of last commit\n",
    "    response = requests.get(url, headers=headers)\n",
    "    if response.status_code == 200:\n",
    "        author = response.json()[0]['author']\n",
    "        if author:\n",
    "            authors[author['login']] = author\n",
    "    else:\n",
    "        print(f\"Failed to fetch commits. Status code: {response.status_code}\")\n",
    "    \n",
    "\n",
    "authors"
   ]
  },
  {
   "cell_type": "code",
   "execution_count": null,
   "id": "86037721-5849-42f1-a88a-fbec3a18285c",
   "metadata": {},
   "outputs": [],
   "source": [
    "authors.keys()\n",
    "df = pd.DataFrame(authors.values())\n",
    "df[['login', 'avatar_url']]\n"
   ]
  },
  {
   "cell_type": "code",
   "execution_count": null,
   "id": "f9820d5d-336b-439f-9df7-132b02564846",
   "metadata": {},
   "outputs": [],
   "source": [
    "authors.values()"
   ]
  },
  {
   "cell_type": "code",
   "execution_count": null,
   "id": "4bc2ad6f-d437-4b90-bf10-71039f03fdbf",
   "metadata": {},
   "outputs": [],
   "source": [
    "author_data = list(authors.values())\n",
    "author_data"
   ]
  },
  {
   "cell_type": "code",
   "execution_count": 83,
   "id": "40e386e4-028c-409e-8416-1c7e2ae53b95",
   "metadata": {
    "editable": true,
    "slideshow": {
     "slide_type": ""
    },
    "tags": []
   },
   "outputs": [
    {
     "data": {
      "text/markdown": [
       "[![SenaDok](https://avatars.githubusercontent.com/u/148862726?v=4)](https://github.com/SenaDok) [![mohammadmasry](https://avatars.githubusercontent.com/u/148862917?v=4)](https://github.com/mohammadmasry) [![SuraniKrrish](https://avatars.githubusercontent.com/u/148862687?v=4)](https://github.com/SuraniKrrish) [![azukaegoo](https://avatars.githubusercontent.com/u/132351500?v=4)](https://github.com/azukaegoo) [![jysndabuio](https://avatars.githubusercontent.com/u/148863168?v=4)](https://github.com/jysndabuio) [![Jokestevens](https://avatars.githubusercontent.com/u/148862801?v=4)](https://github.com/Jokestevens) [![NastLen](https://avatars.githubusercontent.com/u/148862793?v=4)](https://github.com/NastLen) [![Adedipe23](https://avatars.githubusercontent.com/u/148863034?v=4)](https://github.com/Adedipe23) [![MohAli92](https://avatars.githubusercontent.com/u/148862863?v=4)](https://github.com/MohAli92) [![Anukuga](https://avatars.githubusercontent.com/u/74722296?v=4)](https://github.com/Anukuga) [![ahmedshh](https://avatars.githubusercontent.com/u/148863322?v=4)](https://github.com/ahmedshh) [![juanchoupegui](https://avatars.githubusercontent.com/u/148862881?v=4)](https://github.com/juanchoupegui) [![kseniiavi](https://avatars.githubusercontent.com/u/148862913?v=4)](https://github.com/kseniiavi) [![SinaNajafi1](https://avatars.githubusercontent.com/u/148863702?v=4)](https://github.com/SinaNajafi1) [![Whyteman95](https://avatars.githubusercontent.com/u/148862892?v=4)](https://github.com/Whyteman95) [![Maryem29](https://avatars.githubusercontent.com/u/148862796?v=4)](https://github.com/Maryem29) [![yashar2028](https://avatars.githubusercontent.com/u/148863523?v=4)](https://github.com/yashar2028) [![Oscarkyamuwendo](https://avatars.githubusercontent.com/u/148862985?v=4)](https://github.com/Oscarkyamuwendo) [![Tabs208](https://avatars.githubusercontent.com/u/128395394?v=4)](https://github.com/Tabs208) [![prity007](https://avatars.githubusercontent.com/u/148862870?v=4)](https://github.com/prity007) [![Boves556](https://avatars.githubusercontent.com/u/148862792?v=4)](https://github.com/Boves556) [![BAMMEZ](https://avatars.githubusercontent.com/u/148863133?v=4)](https://github.com/BAMMEZ) [![chiwuba](https://avatars.githubusercontent.com/u/58079090?v=4)](https://github.com/chiwuba) [![dominikb1888](https://avatars.githubusercontent.com/u/289612?v=4)](https://github.com/dominikb1888) [![AmaAdusei](https://avatars.githubusercontent.com/u/148862738?v=4)](https://github.com/AmaAdusei) [![udehadaeze](https://avatars.githubusercontent.com/u/148863379?v=4)](https://github.com/udehadaeze) [![David001d](https://avatars.githubusercontent.com/u/148862921?v=4)](https://github.com/David001d) [![mdawoodaslam](https://avatars.githubusercontent.com/u/103655524?v=4)](https://github.com/mdawoodaslam) [![AngelinaNSS](https://avatars.githubusercontent.com/u/148863357?v=4)](https://github.com/AngelinaNSS) [![Nada1347](https://avatars.githubusercontent.com/u/148863210?v=4)](https://github.com/Nada1347) [![NDYawt](https://avatars.githubusercontent.com/u/148863116?v=4)](https://github.com/NDYawt) [![gansah1](https://avatars.githubusercontent.com/u/148863777?v=4)](https://github.com/gansah1) [![GEORGEMUTALE](https://avatars.githubusercontent.com/u/148863672?v=4)](https://github.com/GEORGEMUTALE) [![fisidinho25](https://avatars.githubusercontent.com/u/27904549?v=4)](https://github.com/fisidinho25) [![MeliseRocha](https://avatars.githubusercontent.com/u/127310708?v=4)](https://github.com/MeliseRocha) [![safrinfaizz](https://avatars.githubusercontent.com/u/150972752?v=4)](https://github.com/safrinfaizz) [![Rhyan2](https://avatars.githubusercontent.com/u/148863405?v=4)](https://github.com/Rhyan2) [![adamganiu11](https://avatars.githubusercontent.com/u/148863963?v=4)](https://github.com/adamganiu11) [![Heshamelmogy](https://avatars.githubusercontent.com/u/148863291?v=4)](https://github.com/Heshamelmogy)"
      ],
      "text/plain": [
       "<IPython.core.display.Markdown object>"
      ]
     },
     "metadata": {},
     "output_type": "display_data"
    }
   ],
   "source": [
    "text = []\n",
    "for author in author_data:\n",
    "    name = author['login']\n",
    "    img = author['avatar_url']\n",
    "    url = author['html_url']\n",
    "    text.append(f\"[![{name}]({img})]({url})\")\n",
    "\n",
    "result = \" \".join(text)\n",
    "display(Markdown(result))"
   ]
  },
  {
   "cell_type": "code",
   "execution_count": null,
   "id": "e80da618-3773-4624-9b0c-933097bacfd9",
   "metadata": {},
   "outputs": [],
   "source": []
  }
 ],
 "metadata": {
  "kernelspec": {
   "display_name": "Python 3 (ipykernel)",
   "language": "python",
   "name": "python3"
  },
  "language_info": {
   "codemirror_mode": {
    "name": "ipython",
    "version": 3
   },
   "file_extension": ".py",
   "mimetype": "text/x-python",
   "name": "python",
   "nbconvert_exporter": "python",
   "pygments_lexer": "ipython3",
   "version": "3.11.6"
  }
 },
 "nbformat": 4,
 "nbformat_minor": 5
}
