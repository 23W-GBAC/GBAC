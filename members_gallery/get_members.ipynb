{
 "cells": [
  {
   "cell_type": "code",
   "execution_count": null,
   "id": "dc8f93be-8102-40a8-a389-f3cce5dd171d",
   "metadata": {},
   "outputs": [],
   "source": [
    "from urllib.request import urlopen, Request\n",
    "import json\n",
    "from dotenv import dotenv_values\n",
    "import pandas as pd\n",
    "from IPython.display import display, Markdown\n",
    "\n",
    "config = dotenv_values(\"../.env\")\n",
    "config"
   ]
  },
  {
   "cell_type": "code",
   "execution_count": null,
   "id": "3ba7abc1-fa0d-4f74-84b1-c9de488c1775",
   "metadata": {},
   "outputs": [],
   "source": [
    "headers = {\n",
    "     'Authorization': f\"token {config['GHTOKEN']}\",\n",
    "     'Accept': 'application/vnd.github.v3+json'\n",
    "}\n",
    "\n",
    "url = f\"https://api.github.com/orgs/{config['GHORG']}/repos?per_page=100\"\n",
    "httprequest = Request(url, headers=headers)\n",
    "\n",
    "with urlopen(httprequest) as response:\n",
    "    if response.status == 200:\n",
    "        data = json.loads(response.read().decode())\n",
    "        names = []\n",
    "        for repo in data:\n",
    "            names.append(repo['name'])\n",
    "    else:\n",
    "        print(f\"Failed to fetch repos. Status code: {response.status_code}\")\n",
    "\n",
    "authors = {}\n",
    "for name in names:\n",
    "    # https://api.github.com/repos/23W-GBAC/SenaDok/commits\n",
    "    print(url)\n",
    "    url = f\"https://api.github.com/repos/23W-GBAC/{name}/commits\"\n",
    "    httprequest = Request(url, headers=headers)\n",
    "    with urlopen(httprequest) as response:\n",
    "        if response.status == 200:\n",
    "            data = json.loads(response.read().decode())\n",
    "            author = data[0]['author']\n",
    "            if author:\n",
    "                authors[author['login']] = author\n",
    "        else:\n",
    "            print(f\"Failed to fetch commits. Status code: {response.status_code}\")\n"
   ]
  },
  {
   "cell_type": "code",
   "execution_count": null,
   "id": "86037721-5849-42f1-a88a-fbec3a18285c",
   "metadata": {},
   "outputs": [],
   "source": [
    "authors.keys()\n",
    "df = pd.DataFrame(authors.values())\n",
    "df[['login', 'avatar_url']]\n"
   ]
  },
  {
   "cell_type": "code",
   "execution_count": 7,
   "id": "f9820d5d-336b-439f-9df7-132b02564846",
   "metadata": {},
   "outputs": [
    {
     "ename": "NameError",
     "evalue": "name 'authors' is not defined",
     "output_type": "error",
     "traceback": [
      "\u001b[0;31m---------------------------------------------------------------------------\u001b[0m",
      "\u001b[0;31mNameError\u001b[0m                                 Traceback (most recent call last)",
      "Cell \u001b[0;32mIn[7], line 1\u001b[0m\n\u001b[0;32m----> 1\u001b[0m \u001b[43mauthors\u001b[49m\u001b[38;5;241m.\u001b[39mvalues()\n",
      "\u001b[0;31mNameError\u001b[0m: name 'authors' is not defined"
     ]
    }
   ],
   "source": [
    "authors.values()"
   ]
  },
  {
   "cell_type": "code",
   "execution_count": null,
   "id": "4bc2ad6f-d437-4b90-bf10-71039f03fdbf",
   "metadata": {},
   "outputs": [],
   "source": [
    "author_data = list(authors.values())\n",
    "author_data"
   ]
  },
  {
   "cell_type": "code",
   "execution_count": null,
   "id": "40e386e4-028c-409e-8416-1c7e2ae53b95",
   "metadata": {
    "editable": true,
    "slideshow": {
     "slide_type": ""
    },
    "tags": []
   },
   "outputs": [],
   "source": [
    "text = []\n",
    "for author in author_data:\n",
    "    name = author['login']\n",
    "    img = author['avatar_url']\n",
    "    url = author['html_url']\n",
    "    text.append(f\"[![{name}]({img})]({url})\")\n",
    "\n",
    "result = \" \".join(text)\n",
    "display(Markdown(result))"
   ]
  },
  {
   "cell_type": "code",
   "execution_count": null,
   "id": "e80da618-3773-4624-9b0c-933097bacfd9",
   "metadata": {},
   "outputs": [],
   "source": []
  }
 ],
 "metadata": {
  "kernelspec": {
   "display_name": "Python 3 (ipykernel)",
   "language": "python",
   "name": "python3"
  },
  "language_info": {
   "codemirror_mode": {
    "name": "ipython",
    "version": 3
   },
   "file_extension": ".py",
   "mimetype": "text/x-python",
   "name": "python",
   "nbconvert_exporter": "python",
   "pygments_lexer": "ipython3",
   "version": "3.11.6"
  }
 },
 "nbformat": 4,
 "nbformat_minor": 5
}
